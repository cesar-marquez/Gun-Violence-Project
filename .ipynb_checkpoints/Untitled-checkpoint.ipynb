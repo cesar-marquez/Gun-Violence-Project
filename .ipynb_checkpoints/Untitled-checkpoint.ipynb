{
 "cells": [
  {
   "cell_type": "code",
   "execution_count": null,
   "metadata": {},
   "outputs": [],
   "source": [
    "#import all dependencies\n",
    "%matplotlib inline\n",
    "from IPython.display import Image\n",
    "import import_ipynb\n",
    "import plotly.plotly as py\n",
    "import pandas as pd\n",
    "import gmaps\n",
    "# Dependencies and Setup\n",
    "import matplotlib.pyplot as plt\n",
    "import numpy as np\n",
    "import time\n",
    "import datetime\n",
    "from datetime import date\n",
    "from pandas.tools.plotting import table\n",
    "from utils.config import gkey\n",
    "from cleanup_allfunctions import data_cleanup\n",
    "from cleanup_allfunctions import buildmapbystatevio\n",
    "from cleanup_allfunctions import gun_vio_locations\n",
    "from cleanup_allfunctions import casualties_by_qtr_yr\n",
    "from cleanup_allfunctions import gun_ownership_crime_report\n",
    "from cleanup_allfunctions import build_victims_kil_stackedbar_state_year\n",
    "from cleanup_allfunctions import build_victims_inj_stackedbar_state_year\n",
    "from cleanup_allfunctions import casualty_plot\n",
    "from cleanup_allfunctions import read_create_df_st_bars\n",
    "from cleanup_allfunctions import setread_csvfile"
   ]
  },
  {
   "cell_type": "code",
   "execution_count": 10,
   "metadata": {},
   "outputs": [
    {
     "name": "stdout",
     "output_type": "stream",
     "text": [
      "Starting Data Cleanup...........\n",
      "Completed Data Cleanup...........\n"
     ]
    }
   ],
   "source": [
    "yr = input(\"Gun Violations State - Please enter the year \")\n",
    "usa_gunviobyyr_df=setread_csvfile(yr,True)\n",
    "usa_gunviobyyr_df.head(45)"
   ]
  },
  {
   "cell_type": "code",
   "execution_count": null,
   "metadata": {},
   "outputs": [],
   "source": []
  }
 ],
 "metadata": {
  "kernelspec": {
   "display_name": "Python 3",
   "language": "python",
   "name": "python3"
  },
  "language_info": {
   "codemirror_mode": {
    "name": "ipython",
    "version": 3
   },
   "file_extension": ".py",
   "mimetype": "text/x-python",
   "name": "python",
   "nbconvert_exporter": "python",
   "pygments_lexer": "ipython3",
   "version": "3.6.7"
  }
 },
 "nbformat": 4,
 "nbformat_minor": 2
}
